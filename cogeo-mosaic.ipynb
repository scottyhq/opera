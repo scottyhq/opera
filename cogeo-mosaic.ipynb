{
 "cells": [
  {
   "cell_type": "markdown",
   "id": "d4873de8-c284-4222-bd50-e6ed61bca1ac",
   "metadata": {},
   "source": [
    "# Create a mosaic file from cogeo-mosaic \n",
    "\n",
    "for titiler visualization\n",
    "\n",
    "https://github.com/developmentseed/cogeo-mosaic/issues/4"
   ]
  },
  {
   "cell_type": "code",
   "execution_count": null,
   "id": "abed9be5-a8e0-419c-94f6-48d6ab979d97",
   "metadata": {},
   "outputs": [],
   "source": []
  },
  {
   "cell_type": "code",
   "execution_count": 14,
   "id": "98667f1a-2525-457d-b148-4f7cd80cd12b",
   "metadata": {},
   "outputs": [],
   "source": [
    "from cogeo_mosaic.mosaic import MosaicJSON\n",
    "from cogeo_mosaic.backends import MosaicBackend\n",
    "import json\n",
    "\n",
    "# Create a MosaicJSON\n",
    "#mosaicdata = MosaicJSON.from_urls([\"1.tif\", \"2.tif\"])\n",
    "\n",
    "#with MosaicBackend(\"s3://mybucket/amosaic.json\", mosaic_def=mosaicdata) as mosaic:\n",
    "#    mosaic.write() # trigger upload to S3"
   ]
  },
  {
   "cell_type": "code",
   "execution_count": 48,
   "id": "4193101c-e491-473b-a949-6fec3e549758",
   "metadata": {},
   "outputs": [],
   "source": [
    "#%%time\n",
    "# ---------------------------------------------------------------------------\n",
    "#KeyError \n",
    "# https://learn.microsoft.com/en-us/azure/azure-maps/zoom-levels-and-tile-grid?tabs=csharp\n",
    "# \n",
    "# feature[\"properties\"][\"path\"]\n",
    "mosaicdata = MosaicJSON.from_features(feature_col['features'],#[:2],\n",
    "                                       minzoom=8, # start tiling (approx maxzoom-n_overviews)\n",
    "                                       maxzoom=13, # 20m\n",
    "                                       #accessor=lambda x: x['id'],\n",
    "                                       accessor=lambda x: x['assets']['vv']['href'],\n",
    "                                      )"
   ]
  },
  {
   "cell_type": "code",
   "execution_count": 49,
   "id": "8bb4a927-18f2-475d-b87b-63bf371c6ff3",
   "metadata": {},
   "outputs": [],
   "source": [
    "with MosaicBackend(\"mosaic-wa-asc-vv.json\", mosaic_def=mosaicdata) as mosaic:\n",
    "    mosaic.write() # trigger upload to S3"
   ]
  },
  {
   "cell_type": "code",
   "execution_count": 51,
   "id": "b9f0f442-adef-4aba-ae52-18930df400c8",
   "metadata": {},
   "outputs": [],
   "source": [
    "#mosaicdata # minzoom=8, maxzoom=13"
   ]
  },
  {
   "cell_type": "code",
   "execution_count": 5,
   "id": "8a84eb2f-ffe9-46ab-91fd-2bbe222e6b60",
   "metadata": {},
   "outputs": [],
   "source": [
    "# Get list of URLs NOTE: Each URL must be *opened* and geometry info extracted, so easier to use featurecollection\n",
    "#mosaicdata = MosaicJSON.from_urls?\n",
    "#MosaicJSON.from_features? # how to decide what URLs to use?\n",
    "import pystac"
   ]
  },
  {
   "cell_type": "code",
   "execution_count": 6,
   "id": "1cb3729d-bdcb-451b-bd39-8ca779e5eb0e",
   "metadata": {},
   "outputs": [],
   "source": [
    "items = pystac.ItemCollection.from_file('items-wa-asc.json')\n",
    "urls = [i.assets['vv'].href for i in items]"
   ]
  },
  {
   "cell_type": "code",
   "execution_count": 7,
   "id": "e43448cb-888a-4252-81b2-b91c6d67e896",
   "metadata": {},
   "outputs": [
    {
     "data": {
      "text/plain": [
       "268"
      ]
     },
     "execution_count": 7,
     "metadata": {},
     "output_type": "execute_result"
    }
   ],
   "source": [
    "len(urls)"
   ]
  },
  {
   "cell_type": "code",
   "execution_count": 8,
   "id": "b3c43759-863a-41af-a003-0e748d90318f",
   "metadata": {},
   "outputs": [
    {
     "data": {
      "text/plain": [
       "'https://datapool.asf.alaska.edu/RTC/OPERA-S1/OPERA_L2_RTC-S1_T064-135610-IW1_20231116T015501Z_20231120T010647Z_S1A_30_v1.0_VV.tif'"
      ]
     },
     "execution_count": 8,
     "metadata": {},
     "output_type": "execute_result"
    }
   ],
   "source": [
    "urls[0]"
   ]
  },
  {
   "cell_type": "code",
   "execution_count": 10,
   "id": "9b8c8bff-cf57-43f1-97ca-30713bda666c",
   "metadata": {},
   "outputs": [],
   "source": [
    "# Uses ~/.netrc with nasa credentials\n",
    "import os\n",
    "os.environ['GDAL_DISABLE_READDIR_ON_OPEN']='EMPTY_DIR'\n",
    "os.environ['GDAL_HTTP_COOKIEJAR']='/tmp/cookies.txt'\n",
    "os.environ['GDAL_HTTP_COOKIEFILE']='/tmp/cookies.txt'"
   ]
  },
  {
   "cell_type": "code",
   "execution_count": 11,
   "id": "eb1de20c-e16a-4ca4-a775-9d20f0cc2ee0",
   "metadata": {},
   "outputs": [],
   "source": [
    "mosaicdata = MosaicJSON.from_urls(urls[:3]) # minzoom=9, maxzoom=12"
   ]
  },
  {
   "cell_type": "code",
   "execution_count": 12,
   "id": "f124128f-4b5a-4d5f-8592-01bf356fb716",
   "metadata": {},
   "outputs": [
    {
     "data": {
      "text/plain": [
       "MosaicJSON(mosaicjson='0.0.3', name=None, description=None, version='1.0.0', attribution=None, minzoom=9, maxzoom=12, quadkey_zoom=9, bounds=(-122.8525847074132, 48.696428078851866, -120.26167529472481, 49.350009765639975), center=(-121.557130001069, 49.02321892224592, 9), tiles={'021212223': ['https://datapool.asf.alaska.edu/RTC/OPERA-S1/OPERA_L2_RTC-S1_T064-135610-IW1_20231116T015501Z_20231120T010647Z_S1A_30_v1.0_VV.tif', 'https://datapool.asf.alaska.edu/RTC/OPERA-S1/OPERA_L2_RTC-S1_T064-135609-IW1_20231116T015459Z_20231120T010647Z_S1A_30_v1.0_VV.tif'], '021212232': ['https://datapool.asf.alaska.edu/RTC/OPERA-S1/OPERA_L2_RTC-S1_T064-135610-IW1_20231116T015501Z_20231120T010647Z_S1A_30_v1.0_VV.tif', 'https://datapool.asf.alaska.edu/RTC/OPERA-S1/OPERA_L2_RTC-S1_T064-135609-IW2_20231116T015500Z_20231120T010647Z_S1A_30_v1.0_VV.tif', 'https://datapool.asf.alaska.edu/RTC/OPERA-S1/OPERA_L2_RTC-S1_T064-135609-IW1_20231116T015459Z_20231120T010647Z_S1A_30_v1.0_VV.tif'], '021212233': ['https://datapool.asf.alaska.edu/RTC/OPERA-S1/OPERA_L2_RTC-S1_T064-135610-IW1_20231116T015501Z_20231120T010647Z_S1A_30_v1.0_VV.tif', 'https://datapool.asf.alaska.edu/RTC/OPERA-S1/OPERA_L2_RTC-S1_T064-135609-IW2_20231116T015500Z_20231120T010647Z_S1A_30_v1.0_VV.tif', 'https://datapool.asf.alaska.edu/RTC/OPERA-S1/OPERA_L2_RTC-S1_T064-135609-IW1_20231116T015459Z_20231120T010647Z_S1A_30_v1.0_VV.tif'], '021212322': ['https://datapool.asf.alaska.edu/RTC/OPERA-S1/OPERA_L2_RTC-S1_T064-135609-IW2_20231116T015500Z_20231120T010647Z_S1A_30_v1.0_VV.tif'], '021230001': ['https://datapool.asf.alaska.edu/RTC/OPERA-S1/OPERA_L2_RTC-S1_T064-135610-IW1_20231116T015501Z_20231120T010647Z_S1A_30_v1.0_VV.tif', 'https://datapool.asf.alaska.edu/RTC/OPERA-S1/OPERA_L2_RTC-S1_T064-135609-IW1_20231116T015459Z_20231120T010647Z_S1A_30_v1.0_VV.tif'], '021230010': ['https://datapool.asf.alaska.edu/RTC/OPERA-S1/OPERA_L2_RTC-S1_T064-135610-IW1_20231116T015501Z_20231120T010647Z_S1A_30_v1.0_VV.tif', 'https://datapool.asf.alaska.edu/RTC/OPERA-S1/OPERA_L2_RTC-S1_T064-135609-IW2_20231116T015500Z_20231120T010647Z_S1A_30_v1.0_VV.tif', 'https://datapool.asf.alaska.edu/RTC/OPERA-S1/OPERA_L2_RTC-S1_T064-135609-IW1_20231116T015459Z_20231120T010647Z_S1A_30_v1.0_VV.tif'], '021230011': ['https://datapool.asf.alaska.edu/RTC/OPERA-S1/OPERA_L2_RTC-S1_T064-135610-IW1_20231116T015501Z_20231120T010647Z_S1A_30_v1.0_VV.tif', 'https://datapool.asf.alaska.edu/RTC/OPERA-S1/OPERA_L2_RTC-S1_T064-135609-IW2_20231116T015500Z_20231120T010647Z_S1A_30_v1.0_VV.tif', 'https://datapool.asf.alaska.edu/RTC/OPERA-S1/OPERA_L2_RTC-S1_T064-135609-IW1_20231116T015459Z_20231120T010647Z_S1A_30_v1.0_VV.tif'], '021230100': ['https://datapool.asf.alaska.edu/RTC/OPERA-S1/OPERA_L2_RTC-S1_T064-135609-IW2_20231116T015500Z_20231120T010647Z_S1A_30_v1.0_VV.tif']}, tilematrixset=None, asset_type=None, asset_prefix=None, data_type=None, colormap=None, layers=None)"
      ]
     },
     "execution_count": 12,
     "metadata": {},
     "output_type": "execute_result"
    }
   ],
   "source": [
    "mosaicdata"
   ]
  },
  {
   "cell_type": "code",
   "execution_count": null,
   "id": "ee7bc9c3-73bd-4fcc-ac07-fd1387418858",
   "metadata": {},
   "outputs": [],
   "source": []
  }
 ],
 "metadata": {
  "kernelspec": {
   "display_name": "Python [conda env:.local-capella]",
   "language": "python",
   "name": "conda-env-.local-capella-py"
  },
  "language_info": {
   "codemirror_mode": {
    "name": "ipython",
    "version": 3
   },
   "file_extension": ".py",
   "mimetype": "text/x-python",
   "name": "python",
   "nbconvert_exporter": "python",
   "pygments_lexer": "ipython3",
   "version": "3.11.4"
  }
 },
 "nbformat": 4,
 "nbformat_minor": 5
}
